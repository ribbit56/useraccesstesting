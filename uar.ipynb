{
 "cells": [
  {
   "cell_type": "markdown",
   "id": "7a184c47",
   "metadata": {},
   "source": [
    "# User Access Review Script\n",
    "\n",
    "User access testing is one of the most common tasks IT auditors will undertake during their career. Checking that access to a given system is of critical importance, and auditors will spend a lot of time performing different tests on user lists provided by those being audited, or pulled using tools like PowerShell or other user management tools. \n",
    "\n",
    "The tests themselves are relatively straight forward and often include tasks such as checking for terminated users with enabled accounts, accounts that have been newly provisioned, and appropriateness of a person's permissions given their role within an organization. However, frequently user lists lack adequate information on their own to complete these tests. Often the solution is to take a user listing and then compare it to an HR report that contains information such as hire/termination dates and a user's role within the company. This information can be easily linked together via Excel using vlookups, or manually searching for a user within an HR report and then copying over related information. These tasks are simple enough, but often take time and are prone to user error due to their manual nature.\n",
    "\n",
    "This example script aims to somewhat automate the process by using two imputs: 1) a user list, and 2) an HR report (or similar). The script performs a simple join from one to the other via a primary key and then creates a .xlsx file containing the results of the join, and subsequent tabs displaying the new user (new hire) IDs, and terminated users."
   ]
  },
  {
   "cell_type": "markdown",
   "id": "fcbfa4fb",
   "metadata": {},
   "source": [
    "## Create Example User List and HR Report\n",
    "\n",
    "Here we'll create an example user list and HR report and export them to excel so that we can demonstrate how the script works. The example files are small, but they're enough to demonstrate how the script works."
   ]
  },
  {
   "cell_type": "markdown",
   "id": "33db9fb8",
   "metadata": {},
   "source": [
    "First we'll need to import the pandas library. This will be the only library we need to import for the entire project."
   ]
  },
  {
   "cell_type": "code",
   "execution_count": 1,
   "id": "7236b3ac",
   "metadata": {},
   "outputs": [],
   "source": [
    "# import pandas\n",
    "\n",
    "import pandas as pd"
   ]
  },
  {
   "cell_type": "markdown",
   "id": "6b2c3e4c",
   "metadata": {},
   "source": [
    "Now we'll create first the user list. In this example it will be a simple user ID and user Name."
   ]
  },
  {
   "cell_type": "code",
   "execution_count": 2,
   "id": "d35cc681",
   "metadata": {},
   "outputs": [
    {
     "data": {
      "text/html": [
       "<div>\n",
       "<style scoped>\n",
       "    .dataframe tbody tr th:only-of-type {\n",
       "        vertical-align: middle;\n",
       "    }\n",
       "\n",
       "    .dataframe tbody tr th {\n",
       "        vertical-align: top;\n",
       "    }\n",
       "\n",
       "    .dataframe thead th {\n",
       "        text-align: right;\n",
       "    }\n",
       "</style>\n",
       "<table border=\"1\" class=\"dataframe\">\n",
       "  <thead>\n",
       "    <tr style=\"text-align: right;\">\n",
       "      <th></th>\n",
       "      <th>user ID</th>\n",
       "      <th>user name</th>\n",
       "    </tr>\n",
       "  </thead>\n",
       "  <tbody>\n",
       "    <tr>\n",
       "      <th>0</th>\n",
       "      <td>1</td>\n",
       "      <td>John Smith</td>\n",
       "    </tr>\n",
       "    <tr>\n",
       "      <th>1</th>\n",
       "      <td>2</td>\n",
       "      <td>Jane Doe</td>\n",
       "    </tr>\n",
       "    <tr>\n",
       "      <th>2</th>\n",
       "      <td>3</td>\n",
       "      <td>Michael Lee</td>\n",
       "    </tr>\n",
       "    <tr>\n",
       "      <th>3</th>\n",
       "      <td>4</td>\n",
       "      <td>Sarah Brown</td>\n",
       "    </tr>\n",
       "  </tbody>\n",
       "</table>\n",
       "</div>"
      ],
      "text/plain": [
       "   user ID    user name\n",
       "0        1   John Smith\n",
       "1        2     Jane Doe\n",
       "2        3  Michael Lee\n",
       "3        4  Sarah Brown"
      ]
     },
     "execution_count": 2,
     "metadata": {},
     "output_type": "execute_result"
    }
   ],
   "source": [
    "# create the user list and covert it to a dataframe\n",
    "\n",
    "user_list_data= {\n",
    "    'user ID': [1, 2, 3, 4],\n",
    "    'user name':['John Smith', 'Jane Doe', 'Michael Lee', 'Sarah Brown']\n",
    "}\n",
    "\n",
    "user_list_df = pd.DataFrame(user_list_data)\n",
    "\n",
    "user_list_df"
   ]
  },
  {
   "cell_type": "markdown",
   "id": "586c1d0b",
   "metadata": {},
   "source": [
    "And now we'll create our HR report. In this example we'll have user ID and user name as well as other fields that often wont come with a user list, but are helpful for testing."
   ]
  },
  {
   "cell_type": "code",
   "execution_count": 3,
   "id": "924c5adb",
   "metadata": {},
   "outputs": [
    {
     "data": {
      "text/html": [
       "<div>\n",
       "<style scoped>\n",
       "    .dataframe tbody tr th:only-of-type {\n",
       "        vertical-align: middle;\n",
       "    }\n",
       "\n",
       "    .dataframe tbody tr th {\n",
       "        vertical-align: top;\n",
       "    }\n",
       "\n",
       "    .dataframe thead th {\n",
       "        text-align: right;\n",
       "    }\n",
       "</style>\n",
       "<table border=\"1\" class=\"dataframe\">\n",
       "  <thead>\n",
       "    <tr style=\"text-align: right;\">\n",
       "      <th></th>\n",
       "      <th>user ID</th>\n",
       "      <th>user name</th>\n",
       "      <th>job title</th>\n",
       "      <th>department</th>\n",
       "      <th>location</th>\n",
       "      <th>manager</th>\n",
       "      <th>hire date</th>\n",
       "      <th>rehire date</th>\n",
       "      <th>termination date</th>\n",
       "      <th>employee status</th>\n",
       "    </tr>\n",
       "  </thead>\n",
       "  <tbody>\n",
       "    <tr>\n",
       "      <th>0</th>\n",
       "      <td>1</td>\n",
       "      <td>John Smith</td>\n",
       "      <td>IT Specialist</td>\n",
       "      <td>IT</td>\n",
       "      <td>New York</td>\n",
       "      <td>Mark Adams</td>\n",
       "      <td>2021-05-15</td>\n",
       "      <td></td>\n",
       "      <td></td>\n",
       "      <td>Active</td>\n",
       "    </tr>\n",
       "    <tr>\n",
       "      <th>1</th>\n",
       "      <td>2</td>\n",
       "      <td>Jane Doe</td>\n",
       "      <td>HR Manager</td>\n",
       "      <td>HR</td>\n",
       "      <td>Los Angeles</td>\n",
       "      <td>Emily Lane</td>\n",
       "      <td>2020-08-10</td>\n",
       "      <td></td>\n",
       "      <td></td>\n",
       "      <td>Active</td>\n",
       "    </tr>\n",
       "    <tr>\n",
       "      <th>2</th>\n",
       "      <td>3</td>\n",
       "      <td>Michael Lee</td>\n",
       "      <td>Sales Executive</td>\n",
       "      <td>Sales</td>\n",
       "      <td>Chicago</td>\n",
       "      <td>Lisa Green</td>\n",
       "      <td>2022-09-25</td>\n",
       "      <td></td>\n",
       "      <td></td>\n",
       "      <td>Terminated</td>\n",
       "    </tr>\n",
       "    <tr>\n",
       "      <th>3</th>\n",
       "      <td>4</td>\n",
       "      <td>Sarah Brown</td>\n",
       "      <td>Accountant</td>\n",
       "      <td>Finance</td>\n",
       "      <td>Boston</td>\n",
       "      <td>John White</td>\n",
       "      <td>2022-10-05</td>\n",
       "      <td></td>\n",
       "      <td></td>\n",
       "      <td>Active</td>\n",
       "    </tr>\n",
       "    <tr>\n",
       "      <th>4</th>\n",
       "      <td>5</td>\n",
       "      <td>Peter Parker</td>\n",
       "      <td>Marketing Intern</td>\n",
       "      <td>Marketing</td>\n",
       "      <td>San Francisco</td>\n",
       "      <td>Emma Thompson</td>\n",
       "      <td>2023-01-15</td>\n",
       "      <td></td>\n",
       "      <td></td>\n",
       "      <td>Active</td>\n",
       "    </tr>\n",
       "    <tr>\n",
       "      <th>5</th>\n",
       "      <td>6</td>\n",
       "      <td>Laura Adams</td>\n",
       "      <td>Project Manager</td>\n",
       "      <td>Operations</td>\n",
       "      <td>Miami</td>\n",
       "      <td>Robert Chen</td>\n",
       "      <td>2022-05-01</td>\n",
       "      <td></td>\n",
       "      <td>2023-06-15</td>\n",
       "      <td>Terminated</td>\n",
       "    </tr>\n",
       "  </tbody>\n",
       "</table>\n",
       "</div>"
      ],
      "text/plain": [
       "   user ID     user name         job title  department       location  \\\n",
       "0        1    John Smith     IT Specialist          IT       New York   \n",
       "1        2      Jane Doe        HR Manager          HR    Los Angeles   \n",
       "2        3   Michael Lee   Sales Executive       Sales        Chicago   \n",
       "3        4   Sarah Brown        Accountant     Finance         Boston   \n",
       "4        5  Peter Parker  Marketing Intern   Marketing  San Francisco   \n",
       "5        6   Laura Adams   Project Manager  Operations          Miami   \n",
       "\n",
       "         manager   hire date rehire date termination date employee status  \n",
       "0     Mark Adams  2021-05-15                                       Active  \n",
       "1     Emily Lane  2020-08-10                                       Active  \n",
       "2     Lisa Green  2022-09-25                                   Terminated  \n",
       "3     John White  2022-10-05                                       Active  \n",
       "4  Emma Thompson  2023-01-15                                       Active  \n",
       "5    Robert Chen  2022-05-01                   2023-06-15      Terminated  "
      ]
     },
     "execution_count": 3,
     "metadata": {},
     "output_type": "execute_result"
    }
   ],
   "source": [
    "# create the HR report and convert it to a dataframe\n",
    "\n",
    "hr_file_data = {\n",
    "    'user ID': [1, 2, 3, 4, 5, 6],\n",
    "    'user name': ['John Smith', 'Jane Doe', 'Michael Lee', 'Sarah Brown', 'Peter Parker', 'Laura Adams'],\n",
    "    'job title': ['IT Specialist', 'HR Manager', 'Sales Executive', 'Accountant', 'Marketing Intern', 'Project Manager'],\n",
    "    'department': ['IT', 'HR', 'Sales', 'Finance', 'Marketing', 'Operations'],\n",
    "    'location': ['New York', 'Los Angeles', 'Chicago', 'Boston', 'San Francisco', 'Miami'],\n",
    "    'manager': ['Mark Adams', 'Emily Lane', 'Lisa Green', 'John White', 'Emma Thompson', 'Robert Chen'],\n",
    "    'hire date': ['2021-05-15', '2020-08-10', '2022-09-25', '2022-10-05', '2023-01-15', '2022-05-01'],\n",
    "    'rehire date': ['', '', '', '', '', ''],\n",
    "    'termination date': ['', '', '', '', '', '2023-06-15'],\n",
    "    'employee status': ['Active', 'Active', 'Terminated', 'Active', 'Active', 'Terminated']\n",
    "}\n",
    "\n",
    "hr_file_df = pd.DataFrame(hr_file_data)\n",
    "\n",
    "hr_file_df"
   ]
  },
  {
   "cell_type": "markdown",
   "id": "7c74ca78",
   "metadata": {},
   "source": [
    "Now we'll export user_list_df and hr_file_df to excel so that they can be used to demonstrate the script we're about to create."
   ]
  },
  {
   "cell_type": "code",
   "execution_count": 4,
   "id": "2937da60",
   "metadata": {},
   "outputs": [],
   "source": [
    "user_list_df.to_excel('User List.xlsx', index=False)\n",
    "hr_file_df.to_excel('HR File.xlsx', index=False)"
   ]
  },
  {
   "cell_type": "markdown",
   "id": "d0ea8f98",
   "metadata": {},
   "source": [
    "## User Access Review Script\n",
    "\n",
    "Now we'll write the user access review script, starting with importing the sample user list and HR report we created in the previous steps. At the end of this section we'll have an excel file which is comprised of the HR report joined to our user list so that we have expanded information for each of our users in the user list, as well as two helpful tabs displaying new users and terminated users found in our example user list."
   ]
  },
  {
   "cell_type": "markdown",
   "id": "a1b91416",
   "metadata": {},
   "source": [
    "First, we'll need to import the user list and hr file so that we can work with them."
   ]
  },
  {
   "cell_type": "code",
   "execution_count": 5,
   "id": "e37cd488",
   "metadata": {},
   "outputs": [],
   "source": [
    "# import the user list and hr report.\n",
    "\n",
    "user_list = pd.read_excel('User List.xlsx')\n",
    "hr_file = pd.read_excel('HR File.xlsx')"
   ]
  },
  {
   "cell_type": "code",
   "execution_count": 6,
   "id": "bab76f32",
   "metadata": {},
   "outputs": [
    {
     "data": {
      "text/html": [
       "<div>\n",
       "<style scoped>\n",
       "    .dataframe tbody tr th:only-of-type {\n",
       "        vertical-align: middle;\n",
       "    }\n",
       "\n",
       "    .dataframe tbody tr th {\n",
       "        vertical-align: top;\n",
       "    }\n",
       "\n",
       "    .dataframe thead th {\n",
       "        text-align: right;\n",
       "    }\n",
       "</style>\n",
       "<table border=\"1\" class=\"dataframe\">\n",
       "  <thead>\n",
       "    <tr style=\"text-align: right;\">\n",
       "      <th></th>\n",
       "      <th>user ID</th>\n",
       "      <th>user name_x</th>\n",
       "      <th>user name_y</th>\n",
       "      <th>job title</th>\n",
       "      <th>department</th>\n",
       "      <th>location</th>\n",
       "      <th>manager</th>\n",
       "      <th>hire date</th>\n",
       "      <th>rehire date</th>\n",
       "      <th>termination date</th>\n",
       "      <th>employee status</th>\n",
       "    </tr>\n",
       "  </thead>\n",
       "  <tbody>\n",
       "    <tr>\n",
       "      <th>0</th>\n",
       "      <td>1</td>\n",
       "      <td>John Smith</td>\n",
       "      <td>John Smith</td>\n",
       "      <td>IT Specialist</td>\n",
       "      <td>IT</td>\n",
       "      <td>New York</td>\n",
       "      <td>Mark Adams</td>\n",
       "      <td>2021-05-15</td>\n",
       "      <td>NaN</td>\n",
       "      <td>NaN</td>\n",
       "      <td>Active</td>\n",
       "    </tr>\n",
       "    <tr>\n",
       "      <th>1</th>\n",
       "      <td>2</td>\n",
       "      <td>Jane Doe</td>\n",
       "      <td>Jane Doe</td>\n",
       "      <td>HR Manager</td>\n",
       "      <td>HR</td>\n",
       "      <td>Los Angeles</td>\n",
       "      <td>Emily Lane</td>\n",
       "      <td>2020-08-10</td>\n",
       "      <td>NaN</td>\n",
       "      <td>NaN</td>\n",
       "      <td>Active</td>\n",
       "    </tr>\n",
       "    <tr>\n",
       "      <th>2</th>\n",
       "      <td>3</td>\n",
       "      <td>Michael Lee</td>\n",
       "      <td>Michael Lee</td>\n",
       "      <td>Sales Executive</td>\n",
       "      <td>Sales</td>\n",
       "      <td>Chicago</td>\n",
       "      <td>Lisa Green</td>\n",
       "      <td>2022-09-25</td>\n",
       "      <td>NaN</td>\n",
       "      <td>NaN</td>\n",
       "      <td>Terminated</td>\n",
       "    </tr>\n",
       "    <tr>\n",
       "      <th>3</th>\n",
       "      <td>4</td>\n",
       "      <td>Sarah Brown</td>\n",
       "      <td>Sarah Brown</td>\n",
       "      <td>Accountant</td>\n",
       "      <td>Finance</td>\n",
       "      <td>Boston</td>\n",
       "      <td>John White</td>\n",
       "      <td>2022-10-05</td>\n",
       "      <td>NaN</td>\n",
       "      <td>NaN</td>\n",
       "      <td>Active</td>\n",
       "    </tr>\n",
       "  </tbody>\n",
       "</table>\n",
       "</div>"
      ],
      "text/plain": [
       "   user ID  user name_x  user name_y        job title department     location  \\\n",
       "0        1   John Smith   John Smith    IT Specialist         IT     New York   \n",
       "1        2     Jane Doe     Jane Doe       HR Manager         HR  Los Angeles   \n",
       "2        3  Michael Lee  Michael Lee  Sales Executive      Sales      Chicago   \n",
       "3        4  Sarah Brown  Sarah Brown       Accountant    Finance       Boston   \n",
       "\n",
       "      manager   hire date  rehire date termination date employee status  \n",
       "0  Mark Adams  2021-05-15          NaN              NaN          Active  \n",
       "1  Emily Lane  2020-08-10          NaN              NaN          Active  \n",
       "2  Lisa Green  2022-09-25          NaN              NaN      Terminated  \n",
       "3  John White  2022-10-05          NaN              NaN          Active  "
      ]
     },
     "execution_count": 6,
     "metadata": {},
     "output_type": "execute_result"
    }
   ],
   "source": [
    "# Perform the join using user ID as the primary key since it is a unique value found between both files.\n",
    "\n",
    "uar_file = pd.merge(user_list, hr_file, on='user ID', how='left')\n",
    "\n",
    "uar_file"
   ]
  },
  {
   "cell_type": "markdown",
   "id": "c80f8244",
   "metadata": {},
   "source": [
    "Now we'll create separate data frames for new users and terminated users. Later we'll use these to create tabs in our final Excel export.\n",
    "\n",
    "To establish new users, assuming we don't have account creation dates, we'll rely on the hire date occurring sometime in the last year. We'll establish an arbitary date of October 1, 2022 as the cutoff. Anyone hired on or after this date will be considered a new user.\n",
    "\n",
    "To determine terminated users, we'll say that anyone with an employee status of 'Terminated' is in fact a terminated user."
   ]
  },
  {
   "cell_type": "code",
   "execution_count": 7,
   "id": "c3b980c5",
   "metadata": {},
   "outputs": [
    {
     "data": {
      "text/html": [
       "<div>\n",
       "<style scoped>\n",
       "    .dataframe tbody tr th:only-of-type {\n",
       "        vertical-align: middle;\n",
       "    }\n",
       "\n",
       "    .dataframe tbody tr th {\n",
       "        vertical-align: top;\n",
       "    }\n",
       "\n",
       "    .dataframe thead th {\n",
       "        text-align: right;\n",
       "    }\n",
       "</style>\n",
       "<table border=\"1\" class=\"dataframe\">\n",
       "  <thead>\n",
       "    <tr style=\"text-align: right;\">\n",
       "      <th></th>\n",
       "      <th>user ID</th>\n",
       "      <th>user name_x</th>\n",
       "      <th>user name_y</th>\n",
       "      <th>job title</th>\n",
       "      <th>department</th>\n",
       "      <th>location</th>\n",
       "      <th>manager</th>\n",
       "      <th>hire date</th>\n",
       "      <th>rehire date</th>\n",
       "      <th>termination date</th>\n",
       "      <th>employee status</th>\n",
       "    </tr>\n",
       "  </thead>\n",
       "  <tbody>\n",
       "    <tr>\n",
       "      <th>3</th>\n",
       "      <td>4</td>\n",
       "      <td>Sarah Brown</td>\n",
       "      <td>Sarah Brown</td>\n",
       "      <td>Accountant</td>\n",
       "      <td>Finance</td>\n",
       "      <td>Boston</td>\n",
       "      <td>John White</td>\n",
       "      <td>2022-10-05</td>\n",
       "      <td>NaN</td>\n",
       "      <td>NaN</td>\n",
       "      <td>Active</td>\n",
       "    </tr>\n",
       "  </tbody>\n",
       "</table>\n",
       "</div>"
      ],
      "text/plain": [
       "   user ID  user name_x  user name_y   job title department location  \\\n",
       "3        4  Sarah Brown  Sarah Brown  Accountant    Finance   Boston   \n",
       "\n",
       "      manager   hire date  rehire date termination date employee status  \n",
       "3  John White  2022-10-05          NaN              NaN          Active  "
      ]
     },
     "execution_count": 7,
     "metadata": {},
     "output_type": "execute_result"
    }
   ],
   "source": [
    "# create new hires dataframe\n",
    "\n",
    "new_hires = uar_file[uar_file['hire date'] >= '2022-10-01']\n",
    "\n",
    "new_hires"
   ]
  },
  {
   "cell_type": "code",
   "execution_count": 8,
   "id": "dda1411a",
   "metadata": {},
   "outputs": [
    {
     "data": {
      "text/html": [
       "<div>\n",
       "<style scoped>\n",
       "    .dataframe tbody tr th:only-of-type {\n",
       "        vertical-align: middle;\n",
       "    }\n",
       "\n",
       "    .dataframe tbody tr th {\n",
       "        vertical-align: top;\n",
       "    }\n",
       "\n",
       "    .dataframe thead th {\n",
       "        text-align: right;\n",
       "    }\n",
       "</style>\n",
       "<table border=\"1\" class=\"dataframe\">\n",
       "  <thead>\n",
       "    <tr style=\"text-align: right;\">\n",
       "      <th></th>\n",
       "      <th>user ID</th>\n",
       "      <th>user name_x</th>\n",
       "      <th>user name_y</th>\n",
       "      <th>job title</th>\n",
       "      <th>department</th>\n",
       "      <th>location</th>\n",
       "      <th>manager</th>\n",
       "      <th>hire date</th>\n",
       "      <th>rehire date</th>\n",
       "      <th>termination date</th>\n",
       "      <th>employee status</th>\n",
       "    </tr>\n",
       "  </thead>\n",
       "  <tbody>\n",
       "    <tr>\n",
       "      <th>2</th>\n",
       "      <td>3</td>\n",
       "      <td>Michael Lee</td>\n",
       "      <td>Michael Lee</td>\n",
       "      <td>Sales Executive</td>\n",
       "      <td>Sales</td>\n",
       "      <td>Chicago</td>\n",
       "      <td>Lisa Green</td>\n",
       "      <td>2022-09-25</td>\n",
       "      <td>NaN</td>\n",
       "      <td>NaN</td>\n",
       "      <td>Terminated</td>\n",
       "    </tr>\n",
       "  </tbody>\n",
       "</table>\n",
       "</div>"
      ],
      "text/plain": [
       "   user ID  user name_x  user name_y        job title department location  \\\n",
       "2        3  Michael Lee  Michael Lee  Sales Executive      Sales  Chicago   \n",
       "\n",
       "      manager   hire date  rehire date termination date employee status  \n",
       "2  Lisa Green  2022-09-25          NaN              NaN      Terminated  "
      ]
     },
     "execution_count": 8,
     "metadata": {},
     "output_type": "execute_result"
    }
   ],
   "source": [
    "# create terminated users dataframe\n",
    "\n",
    "terminated_users = uar_file[uar_file['employee status'] == 'Terminated']\n",
    "\n",
    "terminated_users"
   ]
  },
  {
   "cell_type": "markdown",
   "id": "c00c9fb2",
   "metadata": {},
   "source": [
    "At this point we have all the elements needed to create our final Excel export. We will comebine them all justing the pandas ExcelWriter."
   ]
  },
  {
   "cell_type": "code",
   "execution_count": 10,
   "id": "d4dfc8cc",
   "metadata": {},
   "outputs": [],
   "source": [
    "# create an Excel file called 'User Access Testing.xlsx' by combining the uar_file, new_hires, and terminated_users \n",
    "# dataframes.\n",
    "\n",
    "with pd.ExcelWriter('User Access Testing.xlsx') as writer:\n",
    "    uar_file.to_excel(writer, sheet_name='UAR File', index=False)\n",
    "    new_hires.to_excel(writer, sheet_name='New Hires', index=False)\n",
    "    terminated_users.to_excel(writer, sheet_name='Terminated Users', index=False)"
   ]
  },
  {
   "cell_type": "markdown",
   "id": "5c345b1c",
   "metadata": {},
   "source": [
    "## And there you have it!\n",
    "\n",
    "We have a working user access testing script that can be used to quickly bring over additional user information as well as provide a ready to use Excel workbook with all of the results. "
   ]
  }
 ],
 "metadata": {
  "kernelspec": {
   "display_name": "Python 3 (ipykernel)",
   "language": "python",
   "name": "python3"
  },
  "language_info": {
   "codemirror_mode": {
    "name": "ipython",
    "version": 3
   },
   "file_extension": ".py",
   "mimetype": "text/x-python",
   "name": "python",
   "nbconvert_exporter": "python",
   "pygments_lexer": "ipython3",
   "version": "3.9.16"
  }
 },
 "nbformat": 4,
 "nbformat_minor": 5
}
